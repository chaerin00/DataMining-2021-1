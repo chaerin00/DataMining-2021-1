{
 "cells": [
  {
   "cell_type": "markdown",
   "metadata": {},
   "source": [
    "# Introduction to Data Mining - Project 3\n",
    "ID: 1912360\n",
    "\n",
    "Name: ANCHAERIN"
   ]
  },
  {
   "cell_type": "markdown",
   "metadata": {},
   "source": [
    "### 1) 필요한 모듈 임포트, 데이터 적재\n",
    " - 데이터 적재는 sklearn의 load_boston()을 사용"
   ]
  },
  {
   "cell_type": "code",
   "execution_count": 26,
   "metadata": {},
   "outputs": [],
   "source": [
    "# code for 1)\n",
    "from sklearn.datasets import load_boston\n",
    "from sklearn.model_selection import train_test_split\n",
    "from sklearn.preprocessing import StandardScaler\n",
    "\n",
    "boston=load_boston()\n",
    "\n",
    "X_train_full,X_test,y_train_full,y_test=train_test_split(boston.data,boston.target,random_state=42)\n",
    "X_train,X_valid,y_train,y_valid=train_test_split(X_train_full,y_train_full,random_state=42)\n",
    "\n",
    "scaler=StandardScaler()\n",
    "X_train=scaler.fit_transform(X_train)\n",
    "X_valid=scaler.transform(X_valid)\n",
    "X_test=scaler.transform(X_test)"
   ]
  },
  {
   "cell_type": "markdown",
   "metadata": {},
   "source": [
    "### 2) 모델 정의 및 학습 (30 epoch)"
   ]
  },
  {
   "cell_type": "code",
   "execution_count": 130,
   "metadata": {},
   "outputs": [
    {
     "name": "stdout",
     "output_type": "stream",
     "text": [
      "Epoch 1/30\n",
      "9/9 [==============================] - 0s 14ms/step - loss: 225.6877 - val_loss: 55.0720\n",
      "Epoch 2/30\n",
      "9/9 [==============================] - 0s 3ms/step - loss: 26.0017 - val_loss: 32.0978\n",
      "Epoch 3/30\n",
      "9/9 [==============================] - 0s 3ms/step - loss: 20.3835 - val_loss: 28.8239\n",
      "Epoch 4/30\n",
      "9/9 [==============================] - 0s 3ms/step - loss: 15.2714 - val_loss: 26.7011\n",
      "Epoch 5/30\n",
      "9/9 [==============================] - 0s 3ms/step - loss: 14.1709 - val_loss: 30.2423\n",
      "Epoch 6/30\n",
      "9/9 [==============================] - 0s 3ms/step - loss: 15.7797 - val_loss: 25.4508\n",
      "Epoch 7/30\n",
      "9/9 [==============================] - 0s 3ms/step - loss: 12.7917 - val_loss: 21.4456\n",
      "Epoch 8/30\n",
      "9/9 [==============================] - 0s 3ms/step - loss: 12.1288 - val_loss: 22.0052\n",
      "Epoch 9/30\n",
      "9/9 [==============================] - 0s 3ms/step - loss: 11.5533 - val_loss: 22.1582\n",
      "Epoch 10/30\n",
      "9/9 [==============================] - 0s 3ms/step - loss: 10.9632 - val_loss: 22.7104\n",
      "Epoch 11/30\n",
      "9/9 [==============================] - 0s 3ms/step - loss: 10.5390 - val_loss: 22.5787\n",
      "Epoch 12/30\n",
      "9/9 [==============================] - 0s 3ms/step - loss: 10.0361 - val_loss: 24.0588\n",
      "Epoch 13/30\n",
      "9/9 [==============================] - 0s 3ms/step - loss: 9.8091 - val_loss: 21.0252\n",
      "Epoch 14/30\n",
      "9/9 [==============================] - 0s 3ms/step - loss: 10.2435 - val_loss: 23.8139\n",
      "Epoch 15/30\n",
      "9/9 [==============================] - 0s 3ms/step - loss: 9.2409 - val_loss: 20.9865\n",
      "Epoch 16/30\n",
      "9/9 [==============================] - 0s 3ms/step - loss: 9.1621 - val_loss: 22.6390\n",
      "Epoch 17/30\n",
      "9/9 [==============================] - 0s 3ms/step - loss: 11.0797 - val_loss: 20.4099\n",
      "Epoch 18/30\n",
      "9/9 [==============================] - 0s 3ms/step - loss: 8.6565 - val_loss: 27.3998\n",
      "Epoch 19/30\n",
      "9/9 [==============================] - 0s 4ms/step - loss: 8.8288 - val_loss: 21.6043\n",
      "Epoch 20/30\n",
      "9/9 [==============================] - 0s 3ms/step - loss: 8.8891 - val_loss: 19.0981\n",
      "Epoch 21/30\n",
      "9/9 [==============================] - 0s 3ms/step - loss: 9.0211 - val_loss: 20.8323\n",
      "Epoch 22/30\n",
      "9/9 [==============================] - 0s 3ms/step - loss: 8.3270 - val_loss: 24.2319\n",
      "Epoch 23/30\n",
      "9/9 [==============================] - 0s 4ms/step - loss: 8.2001 - val_loss: 19.8529\n",
      "Epoch 24/30\n",
      "9/9 [==============================] - 0s 4ms/step - loss: 9.0247 - val_loss: 19.0374\n",
      "Epoch 25/30\n",
      "9/9 [==============================] - 0s 4ms/step - loss: 8.3549 - val_loss: 19.8824\n",
      "Epoch 26/30\n",
      "9/9 [==============================] - 0s 4ms/step - loss: 7.6784 - val_loss: 18.6641\n",
      "Epoch 27/30\n",
      "9/9 [==============================] - 0s 4ms/step - loss: 7.7224 - val_loss: 20.8437\n",
      "Epoch 28/30\n",
      "9/9 [==============================] - ETA: 0s - loss: 5.084 - 0s 3ms/step - loss: 7.6276 - val_loss: 21.3345\n",
      "Epoch 29/30\n",
      "9/9 [==============================] - 0s 3ms/step - loss: 8.4893 - val_loss: 21.5158\n",
      "Epoch 30/30\n",
      "9/9 [==============================] - 0s 3ms/step - loss: 7.9930 - val_loss: 21.0515\n",
      "4/4 [==============================] - 0s 838us/step - loss: 12.5608\n"
     ]
    }
   ],
   "source": [
    "# code for 2)\n",
    "import tensorflow as tf\n",
    "from tensorflow import keras\n",
    "\n",
    "model=keras.models.Sequential([\n",
    "    keras.layers.Dense(30,activation='relu',input_shape=X_train.shape[1:]),\n",
    "    keras.layers.Dense(1)\n",
    "])\n",
    "\n",
    "model.compile(loss='mean_squared_error',optimizer='sgd')\n",
    "history=model.fit(X_train,y_train,epochs=30,validation_data=(X_valid,y_valid))\n",
    "mse_test=model.evaluate(X_test,y_test)"
   ]
  },
  {
   "cell_type": "markdown",
   "metadata": {},
   "source": [
    "### 3) 학습 완료 후 손실 그래프 그리기"
   ]
  },
  {
   "cell_type": "code",
   "execution_count": 131,
   "metadata": {},
   "outputs": [
    {
     "data": {
      "image/png": "[encoded data removed]",
      "text/plain": [
       "<Figure size 432x288 with 1 Axes>"
      ]
     },
     "metadata": {
      "needs_background": "light"
     },
     "output_type": "display_data"
    }
   ],
   "source": [
    "# code for 3)\n",
    "import pandas as pd\n",
    "import matplotlib.pyplot as plt\n",
    "\n",
    "plt.plot(pd.DataFrame(history.history))\n",
    "plt.grid(True)\n",
    "plt.show()"
   ]
  },
  {
   "cell_type": "markdown",
   "metadata": {},
   "source": [
    "### 3) 테스트 셋을 적용하여 예측값 구하기, 실젯값과 예측값의 비교 그래프 그리기"
   ]
  },
  {
   "cell_type": "code",
   "execution_count": 128,
   "metadata": {},
   "outputs": [
    {
     "data": {
      "image/png": "[encoded data removed]",
      "text/plain": [
       "<Figure size 432x288 with 1 Axes>"
      ]
     },
     "metadata": {
      "needs_background": "light"
     },
     "output_type": "display_data"
    }
   ],
   "source": [
    "# code for 4)\n",
    "import numpy as np\n",
    "y_pred=model.predict(X_test)\n",
    "sort_idx=np.argsort(y_test)\n",
    "plt.plot(y_pred[sort_idx],'o',label='predict_val')\n",
    "plt.plot(y_test[sort_idx],'r',label='real_val')\n",
    "plt.xlabel('index')\n",
    "plt.ylabel('value')\n",
    "plt.legend()\n",
    "plt.show()"
   ]
  },
  {
   "cell_type": "markdown",
   "metadata": {},
   "source": [
    "real value인 X_test를 오름차순으로 정렬하고 정렬된 index(sort_idx)를 활용하여 그래프를 실제값과 예측값의 비교 그래프를 그렸다."
   ]
  }
 ],
 "metadata": {
  "kernelspec": {
   "display_name": "Python 3",
   "language": "python",
   "name": "python3"
  },
  "language_info": {
   "codemirror_mode": {
    "name": "ipython",
    "version": 3
   },
   "file_extension": ".py",
   "mimetype": "text/x-python",
   "name": "python",
   "nbconvert_exporter": "python",
   "pygments_lexer": "ipython3",
   "version": "3.8.5"
  }
 },
 "nbformat": 4,
 "nbformat_minor": 4
}
