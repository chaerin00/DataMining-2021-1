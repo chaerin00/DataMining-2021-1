{
 "cells": [
  {
   "cell_type": "code",
   "execution_count": 1,
   "metadata": {},
   "outputs": [
    {
     "name": "stdout",
     "output_type": "stream",
     "text": [
      "        sepal length in cm  sepal width in cm  petal length in cm  \\\n",
      "record                                                              \n",
      "0                      NaN                3.5                 1.4   \n",
      "1                      4.9                3.0                 1.4   \n",
      "2                      NaN                3.2                 1.3   \n",
      "3                      4.6                3.1                 1.5   \n",
      "4                      5.0                3.6                 1.4   \n",
      "\n",
      "        petal width in cm species  \n",
      "record                             \n",
      "0                     0.2  setosa  \n",
      "1                     0.2  setosa  \n",
      "2                     0.2  setosa  \n",
      "3                     0.2  setosa  \n",
      "4                     0.2  setosa  \n"
     ]
    }
   ],
   "source": [
    "import pandas as pd\n",
    "df=pd.read_csv('./Python-Data-Mining-Quick-Start-Guide/data/iris_missing_values.csv')\n",
    "df.index.name='record'\n",
    "print(df.head())"
   ]
  },
  {
   "cell_type": "code",
   "execution_count": 2,
   "metadata": {},
   "outputs": [
    {
     "data": {
      "text/plain": [
       "record\n",
       "0       True\n",
       "1      False\n",
       "2       True\n",
       "3      False\n",
       "4      False\n",
       "       ...  \n",
       "145    False\n",
       "146    False\n",
       "147    False\n",
       "148    False\n",
       "149    False\n",
       "Name: sepal length in cm, Length: 150, dtype: bool"
      ]
     },
     "execution_count": 2,
     "metadata": {},
     "output_type": "execute_result"
    }
   ],
   "source": [
    "df['sepal length in cm'].isnull()"
   ]
  },
  {
   "cell_type": "code",
   "execution_count": 3,
   "metadata": {},
   "outputs": [
    {
     "name": "stdout",
     "output_type": "stream",
     "text": [
      "True\n"
     ]
    }
   ],
   "source": [
    "print(df['sepal length in cm'].isnull().values.any())"
   ]
  },
  {
   "cell_type": "code",
   "execution_count": 4,
   "metadata": {},
   "outputs": [
    {
     "name": "stdout",
     "output_type": "stream",
     "text": [
      "record\n",
      "0    example\n",
      "1        4.9\n",
      "2    example\n",
      "3        4.6\n",
      "4          5\n",
      "Name: sepal length in cm, dtype: object\n"
     ]
    }
   ],
   "source": [
    "df_example=df['sepal length in cm'].fillna('example')\n",
    "print(df_example.head())"
   ]
  },
  {
   "cell_type": "code",
   "execution_count": 5,
   "metadata": {},
   "outputs": [
    {
     "name": "stdout",
     "output_type": "stream",
     "text": [
      "        sepal length in cm  sepal width in cm  petal length in cm  \\\n",
      "record                                                              \n",
      "1                      4.9                3.0                 1.4   \n",
      "3                      4.6                3.1                 1.5   \n",
      "4                      5.0                3.6                 1.4   \n",
      "6                      4.6                3.4                 1.4   \n",
      "7                      5.0                3.4                 1.5   \n",
      "\n",
      "        petal width in cm species  \n",
      "record                             \n",
      "1                     0.2  setosa  \n",
      "3                     0.2  setosa  \n",
      "4                     0.2  setosa  \n",
      "6                     0.3  setosa  \n",
      "7                     0.2  setosa  \n"
     ]
    }
   ],
   "source": [
    "df_dropped=df.dropna(axis=0)\n",
    "print(df_dropped.head())"
   ]
  },
  {
   "cell_type": "code",
   "execution_count": 6,
   "metadata": {},
   "outputs": [
    {
     "name": "stdout",
     "output_type": "stream",
     "text": [
      "Empty DataFrame\n",
      "Columns: []\n",
      "Index: [0, 1, 2, 3, 4]\n"
     ]
    }
   ],
   "source": [
    "df_dropped=df.dropna(axis=1)\n",
    "print(df_dropped.head())"
   ]
  },
  {
   "cell_type": "code",
   "execution_count": 7,
   "metadata": {},
   "outputs": [
    {
     "name": "stdout",
     "output_type": "stream",
     "text": [
      "        sepal length in cm  sepal width in cm  petal length in cm  \\\n",
      "record                                                              \n",
      "1                      4.9                3.0                 1.4   \n",
      "3                      4.6                3.1                 1.5   \n",
      "4                      5.0                3.6                 1.4   \n",
      "6                      4.6                3.4                 1.4   \n",
      "7                      5.0                3.4                 1.5   \n",
      "\n",
      "        petal width in cm species  \n",
      "record                             \n",
      "1                     0.2  setosa  \n",
      "3                     0.2  setosa  \n",
      "4                     0.2  setosa  \n",
      "6                     0.3  setosa  \n",
      "7                     0.2  setosa  \n"
     ]
    }
   ],
   "source": [
    "df_dropped=df.dropna(axis=0)\n",
    "print(df_dropped.head())"
   ]
  },
  {
   "cell_type": "code",
   "execution_count": 8,
   "metadata": {},
   "outputs": [],
   "source": [
    "from sklearn.impute import SimpleImputer\n",
    "import numpy as np\n",
    "\n",
    "imputer=SimpleImputer(missing_values=np.nan, strategy='mean')\n",
    "\n",
    "cols=['sepal length in cm',\n",
    "     'sepal width in cm',\n",
    "     'petal length in cm',\n",
    "     'petal width in cm']"
   ]
  },
  {
   "cell_type": "code",
   "execution_count": 11,
   "metadata": {},
   "outputs": [
    {
     "name": "stdout",
     "output_type": "stream",
     "text": [
      "   sepal length in cm  sepal width in cm  petal length in cm  \\\n",
      "0            5.870139                3.5                 1.4   \n",
      "1            4.900000                3.0                 1.4   \n",
      "2            5.870139                3.2                 1.3   \n",
      "3            4.600000                3.1                 1.5   \n",
      "4            5.000000                3.6                 1.4   \n",
      "\n",
      "   petal width in cm species  \n",
      "0                0.2  setosa  \n",
      "1                0.2  setosa  \n",
      "2                0.2  setosa  \n",
      "3                0.2  setosa  \n",
      "4                0.2  setosa  \n"
     ]
    }
   ],
   "source": [
    "import pandas as pd\n",
    "df=pd.read_csv('./Python-Data-Mining-Quick-Start-Guide/data/iris_missing_values.csv')\n",
    "df.index.name='record'\n",
    "\n",
    "out_imp=imputer.fit_transform(df[cols])\n",
    "df_new=pd.DataFrame(data=out_imp,columns=cols)\n",
    "df_new=pd.concat([df_new,df[['species']]],axis=1)\n",
    "print(df_new.head())"
   ]
  },
  {
   "cell_type": "code",
   "execution_count": 16,
   "metadata": {},
   "outputs": [
    {
     "name": "stdout",
     "output_type": "stream",
     "text": [
      "[[0.22222222 0.625      0.06779661 0.04166667]\n",
      " [0.16666667 0.41666667 0.06779661 0.04166667]\n",
      " [0.11111111 0.5        0.05084746 0.04166667]\n",
      " [0.08333333 0.45833333 0.08474576 0.04166667]\n",
      " [0.19444444 0.66666667 0.06779661 0.04166667]\n",
      " [0.30555556 0.79166667 0.11864407 0.125     ]\n",
      " [0.08333333 0.58333333 0.06779661 0.08333333]\n",
      " [0.19444444 0.58333333 0.08474576 0.04166667]\n",
      " [0.02777778 0.375      0.06779661 0.04166667]\n",
      " [0.16666667 0.45833333 0.08474576 0.        ]]\n"
     ]
    }
   ],
   "source": [
    "from sklearn.preprocessing import MinMaxScaler\n",
    "scaler=MinMaxScaler()\n",
    "\n",
    "out_scaled=scaler.fit_transform(df[cols])\n",
    "print(out_scaled[:10])"
   ]
  },
  {
   "cell_type": "code",
   "execution_count": 15,
   "metadata": {},
   "outputs": [
    {
     "name": "stdout",
     "output_type": "stream",
     "text": [
      "[[-0.90068117  1.03205722 -1.3412724  -1.31297673]\n",
      " [-1.14301691 -0.1249576  -1.3412724  -1.31297673]\n",
      " [-1.38535265  0.33784833 -1.39813811 -1.31297673]\n",
      " [-1.50652052  0.10644536 -1.2844067  -1.31297673]\n",
      " [-1.02184904  1.26346019 -1.3412724  -1.31297673]\n",
      " [-0.53717756  1.95766909 -1.17067529 -1.05003079]\n",
      " [-1.50652052  0.80065426 -1.3412724  -1.18150376]\n",
      " [-1.02184904  0.80065426 -1.2844067  -1.31297673]\n",
      " [-1.74885626 -0.35636057 -1.3412724  -1.31297673]\n",
      " [-1.14301691  0.10644536 -1.2844067  -1.4444497 ]]\n"
     ]
    }
   ],
   "source": [
    "from sklearn.preprocessing import StandardScaler\n",
    "scaler=StandardScaler()\n",
    "\n",
    "out_scaled=scaler.fit_transform(df[cols])\n",
    "print(out_scaled[:10])"
   ]
  },
  {
   "cell_type": "code",
   "execution_count": 14,
   "metadata": {},
   "outputs": [
    {
     "name": "stdout",
     "output_type": "stream",
     "text": [
      "   sepal length in cm  sepal width in cm  petal length in cm  \\\n",
      "0                 5.1                3.5                 1.4   \n",
      "1                 4.9                3.0                 1.4   \n",
      "2                 4.7                3.2                 1.3   \n",
      "3                 4.6                3.1                 1.5   \n",
      "4                 5.0                3.6                 1.4   \n",
      "\n",
      "   petal width in cm species  \n",
      "0                0.2  setosa  \n",
      "1                0.2  setosa  \n",
      "2                0.2  setosa  \n",
      "3                0.2  setosa  \n",
      "4                0.2  setosa  \n"
     ]
    }
   ],
   "source": [
    "import pandas as pd\n",
    "df=pd.read_csv('./Python-Data-Mining-Quick-Start-Guide/data/iris.csv')\n",
    "df.index.name='record'\n",
    "\n",
    "out_imp=imputer.fit_transform(df[cols])\n",
    "df_new=pd.DataFrame(data=out_imp,columns=cols)\n",
    "df_new=pd.concat([df_new,df[['species']]],axis=1)\n",
    "print(df_new.head())"
   ]
  },
  {
   "cell_type": "code",
   "execution_count": 17,
   "metadata": {},
   "outputs": [],
   "source": [
    "df=pd.read_csv(\"./Python-Data-Mining-Quick-Start-Guide/data/long_jump.csv\")\n",
    "df.set_index('Person',inplace=True)"
   ]
  },
  {
   "cell_type": "code",
   "execution_count": 18,
   "metadata": {},
   "outputs": [
    {
     "name": "stdout",
     "output_type": "stream",
     "text": [
      "        Jersey Size  Shoe Size\n",
      "Person                        \n",
      "Thomas        small          7\n",
      "Jane         medium         10\n",
      "Vaughn        large         12\n",
      "Vera         medium          9\n",
      "Vincent       large         12\n",
      "Lei-Ann       small          7\n"
     ]
    }
   ],
   "source": [
    "cats=['Jersey Size','Shoe Size']\n",
    "print(df[cats])"
   ]
  },
  {
   "cell_type": "code",
   "execution_count": 19,
   "metadata": {},
   "outputs": [
    {
     "name": "stdout",
     "output_type": "stream",
     "text": [
      "[array(['large', 'medium', 'small'], dtype=object), array([ 7,  9, 10, 12], dtype=int64)]\n",
      "[[2. 0.]\n",
      " [1. 2.]\n",
      " [0. 3.]\n",
      " [1. 1.]\n",
      " [0. 3.]\n",
      " [2. 0.]]\n"
     ]
    }
   ],
   "source": [
    "from sklearn.preprocessing import OrdinalEncoder\n",
    "enc=OrdinalEncoder()\n",
    "\n",
    "out_enc=enc.fit_transform(df[cats])\n",
    "print(enc.categories_)\n",
    "print(out_enc)"
   ]
  },
  {
   "cell_type": "code",
   "execution_count": 20,
   "metadata": {},
   "outputs": [
    {
     "name": "stdout",
     "output_type": "stream",
     "text": [
      "         Age  Height  Weight  Training Hours/week Jersey Color  Jersey Size  \\\n",
      "Person                                                                        \n",
      "Thomas    12    57.5    73.4                  6.5         blue          2.0   \n",
      "Jane      13    65.5    85.3                  8.9        green          1.0   \n",
      "Vaughn    17    71.9   125.9                  1.1        green          0.0   \n",
      "Vera      14    65.3   100.5                  7.9          red          1.0   \n",
      "Vincent   18    70.1   110.7                 10.5         blue          0.0   \n",
      "\n",
      "         Shoe Size  Long Jump  \n",
      "Person                         \n",
      "Thomas         0.0       19.2  \n",
      "Jane           2.0       25.1  \n",
      "Vaughn         3.0       14.3  \n",
      "Vera           1.0       18.3  \n",
      "Vincent        3.0       21.1  \n"
     ]
    }
   ],
   "source": [
    "df[cats]=out_enc\n",
    "print(df.head())"
   ]
  },
  {
   "cell_type": "code",
   "execution_count": 21,
   "metadata": {},
   "outputs": [
    {
     "name": "stdout",
     "output_type": "stream",
     "text": [
      "['Jersey Size_0.0', 'Jersey Size_1.0', 'Jersey Size_2.0', 'Shoe Size_0.0', 'Shoe Size_1.0', 'Shoe Size_2.0', 'Shoe Size_3.0']\n"
     ]
    }
   ],
   "source": [
    "from sklearn.preprocessing import OneHotEncoder\n",
    "enc=OneHotEncoder(sparse=False)\n",
    "\n",
    "out_enc=enc.fit_transform(df[cats])\n",
    "new_cols=enc.get_feature_names(cats).tolist()\n",
    "print(new_cols)"
   ]
  },
  {
   "cell_type": "code",
   "execution_count": 22,
   "metadata": {},
   "outputs": [
    {
     "name": "stdout",
     "output_type": "stream",
     "text": [
      "Index(['Age', 'Height', 'Weight', 'Training Hours/week', 'Jersey Color',\n",
      "       'Long Jump', 'Jersey Size_0.0', 'Jersey Size_1.0', 'Jersey Size_2.0',\n",
      "       'Shoe Size_0.0', 'Shoe Size_1.0', 'Shoe Size_2.0', 'Shoe Size_3.0'],\n",
      "      dtype='object')\n"
     ]
    }
   ],
   "source": [
    "df_enc=pd.DataFrame(data=out_enc,columns=new_cols)\n",
    "df_enc.index=df.index\n",
    "\n",
    "df.drop(cats,axis=1,inplace=True)\n",
    "df=pd.concat([df,df_enc],axis=1)\n",
    "print(df.columns)"
   ]
  },
  {
   "cell_type": "code",
   "execution_count": 23,
   "metadata": {},
   "outputs": [],
   "source": [
    "df=pd.read_csv('./Python-Data-Mining-Quick-Start-Guide/data/iris_missing_values.csv')\n",
    "df.index.name='record'\n",
    "\n",
    "\n",
    "cols=['sepal length in cm',\n",
    "     'sepal width in cm',\n",
    "     'petal length in cm',\n",
    "     'petal width in cm']"
   ]
  },
  {
   "cell_type": "code",
   "execution_count": 24,
   "metadata": {},
   "outputs": [
    {
     "name": "stdout",
     "output_type": "stream",
     "text": [
      "[0.68681665 0.17726873 3.05529455 0.57061502]\n"
     ]
    }
   ],
   "source": [
    "from sklearn.feature_selection import VarianceThreshold\n",
    "selector=VarianceThreshold()\n",
    "\n",
    "selector.fit(df[cols])\n",
    "\n",
    "print(selector.variances_)"
   ]
  },
  {
   "cell_type": "code",
   "execution_count": 25,
   "metadata": {},
   "outputs": [
    {
     "name": "stdout",
     "output_type": "stream",
     "text": [
      "[ True False  True False]\n"
     ]
    }
   ],
   "source": [
    "selector.set_params(threshold=0.6)\n",
    "\n",
    "out_sel=selector.fit_transform(df[cols])\n",
    "\n",
    "print(selector.get_support())"
   ]
  },
  {
   "cell_type": "code",
   "execution_count": 26,
   "metadata": {},
   "outputs": [],
   "source": [
    " import matplotlib.pyplot as plt\n",
    "    \n",
    "from sklearn.datasets import load_boston\n",
    "dataset=load_boston()\n",
    "df=pd.DataFrame(dataset.data,columns=dataset.feature_names)\n",
    "df['MEDV']=dataset.target\n",
    "df.index.name='record'"
   ]
  },
  {
   "cell_type": "code",
   "execution_count": 27,
   "metadata": {},
   "outputs": [
    {
     "data": {
      "image/png": "[encoded data removed]",
      "text/plain": [
       "<Figure size 432x288 with 2 Axes>"
      ]
     },
     "metadata": {
      "needs_background": "light"
     },
     "output_type": "display_data"
    }
   ],
   "source": [
    "cor=df.corr()\n",
    "\n",
    "import seaborn as sns\n",
    "\n",
    "sns.heatmap(cor,annot=False, cmap=plt.cm.Blues)\n",
    "plt.show()"
   ]
  },
  {
   "cell_type": "code",
   "execution_count": 28,
   "metadata": {},
   "outputs": [
    {
     "name": "stdout",
     "output_type": "stream",
     "text": [
      "CRIM       0.388305\n",
      "ZN         0.360445\n",
      "INDUS      0.483725\n",
      "CHAS       0.175260\n",
      "NOX        0.427321\n",
      "RM         0.695360\n",
      "AGE        0.376955\n",
      "DIS        0.249929\n",
      "RAD        0.381626\n",
      "TAX        0.468536\n",
      "PTRATIO    0.507787\n",
      "B          0.333461\n",
      "LSTAT      0.737663\n",
      "MEDV       1.000000\n",
      "Name: MEDV, dtype: float64\n"
     ]
    }
   ],
   "source": [
    "cor_target=abs(cor['MEDV'])\n",
    "print(cor_target)"
   ]
  },
  {
   "cell_type": "code",
   "execution_count": 32,
   "metadata": {},
   "outputs": [
    {
     "data": {
      "image/png": "[encoded data removed]",
      "text/plain": [
       "<Figure size 432x288 with 2 Axes>"
      ]
     },
     "metadata": {
      "needs_background": "light"
     },
     "output_type": "display_data"
    }
   ],
   "source": [
    "\n",
    "import seaborn as sns\n",
    "#id:1912360\n",
    "#Name: ANCHAERIN\n",
    "\n",
    "cor=df.corr()\n",
    "\n",
    "import seaborn as sns\n",
    "\n",
    "sns.heatmap(cor,annot=False, cmap=plt.cm.jet)\n",
    "plt.show()"
   ]
  },
  {
   "cell_type": "code",
   "execution_count": null,
   "metadata": {},
   "outputs": [],
   "source": []
  }
 ],
 "metadata": {
  "kernelspec": {
   "display_name": "Python 3",
   "language": "python",
   "name": "python3"
  },
  "language_info": {
   "codemirror_mode": {
    "name": "ipython",
    "version": 3
   },
   "file_extension": ".py",
   "mimetype": "text/x-python",
   "name": "python",
   "nbconvert_exporter": "python",
   "pygments_lexer": "ipython3",
   "version": "3.8.5"
  }
 },
 "nbformat": 4,
 "nbformat_minor": 4
}
