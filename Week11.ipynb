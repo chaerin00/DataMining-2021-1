{
 "cells": [
  {
   "cell_type": "code",
   "execution_count": 19,
   "metadata": {},
   "outputs": [
    {
     "name": "stdout",
     "output_type": "stream",
     "text": [
      "2.5.0\n",
      "2.5.0\n"
     ]
    }
   ],
   "source": [
    "import tensorflow as tf\n",
    "from tensorflow import keras\n",
    "\n",
    "print(tf.__version__)\n",
    "print(keras.__version__)"
   ]
  },
  {
   "cell_type": "code",
   "execution_count": 20,
   "metadata": {},
   "outputs": [],
   "source": [
    "fashion_mnist=keras.datasets.fashion_mnist\n",
    "(X_train_full,y_train_full),(X_test,y_test)=fashion_mnist.load_data()"
   ]
  },
  {
   "cell_type": "code",
   "execution_count": 21,
   "metadata": {},
   "outputs": [
    {
     "name": "stdout",
     "output_type": "stream",
     "text": [
      "(60000, 28, 28)\n",
      "(10000, 28, 28)\n"
     ]
    }
   ],
   "source": [
    "print(X_train_full.shape)\n",
    "print(X_test.shape)"
   ]
  },
  {
   "cell_type": "code",
   "execution_count": 22,
   "metadata": {},
   "outputs": [],
   "source": [
    "X_valid,X_train=X_train_full[:5000]/255.0,X_train_full[5000:]/255.0\n",
    "y_valid,y_train=y_train_full[:5000],y_train_full[5000:]\n",
    "X_test=X_test/255.0"
   ]
  },
  {
   "cell_type": "code",
   "execution_count": 23,
   "metadata": {},
   "outputs": [],
   "source": [
    "class_names=['T-shirt/top','Trouser','Pullover','Dress','Coat','Sandal','Shirt','Sneaker','Bag','Ankle boot']"
   ]
  },
  {
   "cell_type": "code",
   "execution_count": 24,
   "metadata": {},
   "outputs": [
    {
     "name": "stdout",
     "output_type": "stream",
     "text": [
      "Model: \"sequential_1\"\n",
      "_________________________________________________________________\n",
      "Layer (type)                 Output Shape              Param #   \n",
      "=================================================================\n",
      "flatten (Flatten)            (None, 784)               0         \n",
      "_________________________________________________________________\n",
      "hidden1 (Dense)              (None, 300)               235500    \n",
      "_________________________________________________________________\n",
      "hidden2 (Dense)              (None, 100)               30100     \n",
      "_________________________________________________________________\n",
      "output (Dense)               (None, 10)                1010      \n",
      "=================================================================\n",
      "Total params: 266,610\n",
      "Trainable params: 266,610\n",
      "Non-trainable params: 0\n",
      "_________________________________________________________________\n"
     ]
    }
   ],
   "source": [
    "model=keras.models.Sequential([keras.layers.Flatten(input_shape=[28,28],name='flatten'),\n",
    "                              keras.layers.Dense(300,activation='relu',name='hidden1'),\n",
    "                              keras.layers.Dense(100,activation='relu',name='hidden2'),\n",
    "                              keras.layers.Dense(10,activation='softmax',name='output')])\n",
    "\n",
    "model.summary()"
   ]
  },
  {
   "cell_type": "code",
   "execution_count": 25,
   "metadata": {},
   "outputs": [],
   "source": [
    "model.compile(loss='sparse_categorical_crossentropy',optimizer='sgd',metrics=['accuracy'])"
   ]
  },
  {
   "cell_type": "code",
   "execution_count": 26,
   "metadata": {},
   "outputs": [
    {
     "name": "stdout",
     "output_type": "stream",
     "text": [
      "Epoch 1/30\n",
      "1719/1719 [==============================] - 8s 4ms/step - loss: 0.7069 - accuracy: 0.7696 - val_loss: 0.5008 - val_accuracy: 0.8324\n",
      "Epoch 2/30\n",
      "1719/1719 [==============================] - 7s 4ms/step - loss: 0.4851 - accuracy: 0.8315 - val_loss: 0.4410 - val_accuracy: 0.8488\n",
      "Epoch 3/30\n",
      "1719/1719 [==============================] - 7s 4ms/step - loss: 0.4398 - accuracy: 0.8466 - val_loss: 0.4298 - val_accuracy: 0.8536\n",
      "Epoch 4/30\n",
      "1719/1719 [==============================] - 7s 4ms/step - loss: 0.4128 - accuracy: 0.8552 - val_loss: 0.4216 - val_accuracy: 0.8548\n",
      "Epoch 5/30\n",
      "1719/1719 [==============================] - 7s 4ms/step - loss: 0.3909 - accuracy: 0.8620 - val_loss: 0.3914 - val_accuracy: 0.8636\n",
      "Epoch 6/30\n",
      "1719/1719 [==============================] - 7s 4ms/step - loss: 0.3765 - accuracy: 0.8673 - val_loss: 0.3804 - val_accuracy: 0.8650\n",
      "Epoch 7/30\n",
      "1719/1719 [==============================] - 7s 4ms/step - loss: 0.3631 - accuracy: 0.8731 - val_loss: 0.3642 - val_accuracy: 0.8742\n",
      "Epoch 8/30\n",
      "1719/1719 [==============================] - 7s 4ms/step - loss: 0.3512 - accuracy: 0.8767 - val_loss: 0.3559 - val_accuracy: 0.8740\n",
      "Epoch 9/30\n",
      "1719/1719 [==============================] - 7s 4ms/step - loss: 0.3417 - accuracy: 0.8782 - val_loss: 0.3593 - val_accuracy: 0.8710\n",
      "Epoch 10/30\n",
      "1719/1719 [==============================] - 7s 4ms/step - loss: 0.3317 - accuracy: 0.8816 - val_loss: 0.3368 - val_accuracy: 0.8804\n",
      "Epoch 11/30\n",
      "1719/1719 [==============================] - 8s 4ms/step - loss: 0.3233 - accuracy: 0.8847 - val_loss: 0.3349 - val_accuracy: 0.8800\n",
      "Epoch 12/30\n",
      "1719/1719 [==============================] - 8s 5ms/step - loss: 0.3164 - accuracy: 0.8876 - val_loss: 0.3278 - val_accuracy: 0.8818\n",
      "Epoch 13/30\n",
      "1719/1719 [==============================] - 7s 4ms/step - loss: 0.3078 - accuracy: 0.8894 - val_loss: 0.3295 - val_accuracy: 0.8844\n",
      "Epoch 14/30\n",
      "1719/1719 [==============================] - 8s 4ms/step - loss: 0.3008 - accuracy: 0.8926 - val_loss: 0.3244 - val_accuracy: 0.8840\n",
      "Epoch 15/30\n",
      "1719/1719 [==============================] - 9s 5ms/step - loss: 0.2939 - accuracy: 0.8942 - val_loss: 0.3224 - val_accuracy: 0.8818\n",
      "Epoch 16/30\n",
      "1719/1719 [==============================] - 9s 5ms/step - loss: 0.2874 - accuracy: 0.8959 - val_loss: 0.3186 - val_accuracy: 0.8870\n",
      "Epoch 17/30\n",
      "1719/1719 [==============================] - 9s 5ms/step - loss: 0.2816 - accuracy: 0.8982 - val_loss: 0.3092 - val_accuracy: 0.8902\n",
      "Epoch 18/30\n",
      "1719/1719 [==============================] - 8s 5ms/step - loss: 0.2755 - accuracy: 0.9010 - val_loss: 0.3215 - val_accuracy: 0.8866\n",
      "Epoch 19/30\n",
      "1719/1719 [==============================] - 9s 5ms/step - loss: 0.2703 - accuracy: 0.9019 - val_loss: 0.3028 - val_accuracy: 0.8922\n",
      "Epoch 20/30\n",
      "1719/1719 [==============================] - 9s 5ms/step - loss: 0.2666 - accuracy: 0.9040 - val_loss: 0.3073 - val_accuracy: 0.8894\n",
      "Epoch 21/30\n",
      "1719/1719 [==============================] - 8s 5ms/step - loss: 0.2615 - accuracy: 0.9053 - val_loss: 0.3080 - val_accuracy: 0.8880\n",
      "Epoch 22/30\n",
      "1719/1719 [==============================] - 9s 5ms/step - loss: 0.2557 - accuracy: 0.9066 - val_loss: 0.3106 - val_accuracy: 0.8860\n",
      "Epoch 23/30\n",
      "1719/1719 [==============================] - 7s 4ms/step - loss: 0.2522 - accuracy: 0.9084 - val_loss: 0.2966 - val_accuracy: 0.8962\n",
      "Epoch 24/30\n",
      "1719/1719 [==============================] - 8s 5ms/step - loss: 0.2473 - accuracy: 0.9110 - val_loss: 0.3237 - val_accuracy: 0.8856\n",
      "Epoch 25/30\n",
      "1719/1719 [==============================] - 9s 5ms/step - loss: 0.2417 - accuracy: 0.9135 - val_loss: 0.2955 - val_accuracy: 0.8902\n",
      "Epoch 26/30\n",
      "1719/1719 [==============================] - 9s 5ms/step - loss: 0.2384 - accuracy: 0.9143 - val_loss: 0.2987 - val_accuracy: 0.8930\n",
      "Epoch 27/30\n",
      "1719/1719 [==============================] - 9s 5ms/step - loss: 0.2348 - accuracy: 0.9152 - val_loss: 0.2999 - val_accuracy: 0.8894\n",
      "Epoch 28/30\n",
      "1719/1719 [==============================] - 9s 5ms/step - loss: 0.2306 - accuracy: 0.9159 - val_loss: 0.2957 - val_accuracy: 0.8928\n",
      "Epoch 29/30\n",
      "1719/1719 [==============================] - 9s 5ms/step - loss: 0.2266 - accuracy: 0.9187 - val_loss: 0.2984 - val_accuracy: 0.8926\n",
      "Epoch 30/30\n",
      "1719/1719 [==============================] - 8s 5ms/step - loss: 0.2220 - accuracy: 0.9207 - val_loss: 0.3330 - val_accuracy: 0.8784\n"
     ]
    }
   ],
   "source": [
    "history=model.fit(X_train,y_train,epochs=30,validation_data=(X_valid,y_valid))"
   ]
  },
  {
   "cell_type": "code",
   "execution_count": 27,
   "metadata": {},
   "outputs": [
    {
     "data": {
      "image/png": "[encoded data removed]",
      "text/plain": [
       "<Figure size 576x360 with 1 Axes>"
      ]
     },
     "metadata": {
      "needs_background": "light"
     },
     "output_type": "display_data"
    }
   ],
   "source": [
    "import pandas as pd\n",
    "import matplotlib.pyplot as plt\n",
    "\n",
    "pd.DataFrame(history.history).plot(figsize=(8,5))\n",
    "plt.grid(True)\n",
    "plt.gca().set_ylim(0,1)\n",
    "plt.show()"
   ]
  },
  {
   "cell_type": "code",
   "execution_count": 28,
   "metadata": {},
   "outputs": [
    {
     "name": "stdout",
     "output_type": "stream",
     "text": [
      "313/313 [==============================] - 1s 3ms/step - loss: 0.3664 - accuracy: 0.8669\n"
     ]
    },
    {
     "data": {
      "text/plain": [
       "[0.3663526475429535, 0.8669000267982483]"
      ]
     },
     "execution_count": 28,
     "metadata": {},
     "output_type": "execute_result"
    }
   ],
   "source": [
    "model.evaluate(X_test,y_test)"
   ]
  },
  {
   "cell_type": "code",
   "execution_count": 29,
   "metadata": {},
   "outputs": [
    {
     "name": "stdout",
     "output_type": "stream",
     "text": [
      "[[0.   0.   0.   0.   0.   0.   0.   0.01 0.   0.99]\n",
      " [0.   0.   0.92 0.   0.07 0.   0.01 0.   0.   0.  ]\n",
      " [0.   1.   0.   0.   0.   0.   0.   0.   0.   0.  ]]\n"
     ]
    },
    {
     "data": {
      "text/plain": [
       "array(['Ankle boot', 'Pullover', 'Trouser'], dtype='<U11')"
      ]
     },
     "execution_count": 29,
     "metadata": {},
     "output_type": "execute_result"
    }
   ],
   "source": [
    "import numpy as np\n",
    "X_new=X_test[:3]\n",
    "y_prob=model.predict(X_new)\n",
    "print(y_prob.round(2))\n",
    "y_pred=np.argmax(model.predict(X_new),axis=1)\n",
    "np.array(class_names)[y_pred]"
   ]
  },
  {
   "cell_type": "code",
   "execution_count": 30,
   "metadata": {},
   "outputs": [
    {
     "data": {
      "image/png": "[encoded data removed]",
      "text/plain": [
       "<Figure size 720x720 with 3 Axes>"
      ]
     },
     "metadata": {
      "needs_background": "light"
     },
     "output_type": "display_data"
    }
   ],
   "source": [
    "## ID:1912360\n",
    "## NAME: ANCHAERIN\n",
    "plt.figure(figsize=(10,10))\n",
    "for img in range(3):\n",
    "    plt.subplot(1,3,img+1)\n",
    "    plt.grid(False)\n",
    "    plt.imshow(X_new[img])\n",
    "    plt.xlabel(class_names[y_pred[img]])"
   ]
  },
  {
   "cell_type": "code",
   "execution_count": null,
   "metadata": {},
   "outputs": [],
   "source": []
  }
 ],
 "metadata": {
  "kernelspec": {
   "display_name": "Python 3",
   "language": "python",
   "name": "python3"
  },
  "language_info": {
   "codemirror_mode": {
    "name": "ipython",
    "version": 3
   },
   "file_extension": ".py",
   "mimetype": "text/x-python",
   "name": "python",
   "nbconvert_exporter": "python",
   "pygments_lexer": "ipython3",
   "version": "3.8.5"
  }
 },
 "nbformat": 4,
 "nbformat_minor": 4
}
