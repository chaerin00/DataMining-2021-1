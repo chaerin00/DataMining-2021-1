{
 "cells": [
  {
   "cell_type": "markdown",
   "metadata": {},
   "source": [
    "# Introduction to Data Mining - Project 2\n",
    "ID: 1912360\n",
    "\n",
    "Name: ANCHEARIN"
   ]
  },
  {
   "cell_type": "markdown",
   "metadata": {},
   "source": [
    "### (문제) /data/boston.csv를 사용하여 아래와 같이 데이터를 탐색하고 요약하시오\n",
    "**1)-1. 문제**  \n",
    "데이터 셋에는 총 몇 개의 변수가 있고, 변수들의 이름은 어떻게 되며, 변수별로 결측값이 있는지 확인해보자. "
   ]
  },
  {
   "cell_type": "code",
   "execution_count": null,
   "metadata": {},
   "outputs": [],
   "source": [
    "# code for 1)-1\n"
   ]
  },
  {
   "cell_type": "markdown",
   "metadata": {},
   "source": [
    "**1)-2. 문제**  \n",
    "각 변수에 대해서 요약 통계량을 출력하시오.\n",
    "어떤 변수의 변동이 가장 큰지, 어떤 변수가 치우쳐 있는지 요약 통계량을 바탕으로 설명하고, 치우쳐져 있는 변수 두 개를 선택하여 히스토그램을 나란히 그리고, 어떻게 치우쳐있는지 설명하시오 (변수는 정규화/표준화하지 않아도 된다.)"
   ]
  },
  {
   "cell_type": "code",
   "execution_count": null,
   "metadata": {},
   "outputs": [],
   "source": [
    "# code for 1)-2"
   ]
  },
  {
   "cell_type": "markdown",
   "metadata": {},
   "source": [
    "**1)-3. 문제**  \n",
    "모든 변수의 쌍의 상관계수를 구하고, heatmap을 이용하여 상관계수를 시각화하라.  \n",
    "어떤 쌍이 가장 높은 상관관계를 나타내는지 heatmap을 근거로 찾으시오."
   ]
  },
  {
   "cell_type": "code",
   "execution_count": null,
   "metadata": {},
   "outputs": [],
   "source": [
    "# code for 1)-3"
   ]
  },
  {
   "cell_type": "markdown",
   "metadata": {},
   "source": [
    "**1)-4.문제**  \n",
    "타깃 변수를 MEDV로 두었을 때, 타깃 변수에 대한 상관계수 값을 구하라.  "
   ]
  },
  {
   "cell_type": "code",
   "execution_count": null,
   "metadata": {},
   "outputs": [],
   "source": [
    "# code for 1)-4"
   ]
  },
  {
   "cell_type": "markdown",
   "metadata": {},
   "source": [
    "**1)-5. 문제**   \n",
    "상관계수값이 가장 큰 변수를 선택하여 해당 변수와 타깃 변수간의 관계를 시각화하기 위해 스캐터 플롯을 그려보라. 각 변수의 의미와 스캐터 플롯, 그리고 1)-4의 상관계수값을 연관지어 두 변수의 관계를 설명하라. \n",
    "(변수의 의미는 https://scikit-learn.org/stable/datasets/toy_dataset.html를 참고)"
   ]
  },
  {
   "cell_type": "code",
   "execution_count": null,
   "metadata": {},
   "outputs": [],
   "source": [
    "# code for 1)-5"
   ]
  }
 ],
 "metadata": {
  "kernelspec": {
   "display_name": "Python 3",
   "language": "python",
   "name": "python3"
  },
  "language_info": {
   "codemirror_mode": {
    "name": "ipython",
    "version": 3
   },
   "file_extension": ".py",
   "mimetype": "text/x-python",
   "name": "python",
   "nbconvert_exporter": "python",
   "pygments_lexer": "ipython3",
   "version": "3.8.5"
  }
 },
 "nbformat": 4,
 "nbformat_minor": 4
}
