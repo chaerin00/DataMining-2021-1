{
 "cells": [
  {
   "cell_type": "code",
   "execution_count": 2,
   "metadata": {},
   "outputs": [],
   "source": [
    "import numpy as np\n",
    "import pandas as pd\n",
    "import seaborn as sns\n",
    "\n",
    "df=pd.read_csv(\"./Python-Data-Mining-Quick-Start-Guide/data/iris.csv\")\n",
    "df.index.name='record'\n",
    "\n",
    "cols=['sepal length in cm',\n",
    "     'sepal width in cm',\n",
    "     'petal length in cm',\n",
    "     'petal width in cm']"
   ]
  },
  {
   "cell_type": "code",
   "execution_count": 3,
   "metadata": {},
   "outputs": [],
   "source": [
    "from sklearn.feature_selection import RFE\n",
    "from sklearn.svm import SVC\n",
    "\n",
    "X=df[cols]\n",
    "y=df['species']"
   ]
  },
  {
   "cell_type": "code",
   "execution_count": 4,
   "metadata": {},
   "outputs": [
    {
     "name": "stdout",
     "output_type": "stream",
     "text": [
      "['sepal length in cm', 'sepal width in cm', 'petal length in cm', 'petal width in cm']\n",
      "[3 2 1 1]\n"
     ]
    }
   ],
   "source": [
    "svc=SVC(kernel='linear', C=1)\n",
    "rfe=RFE(estimator=svc,n_features_to_select=2,step=1)\n",
    "rfe.fit(X,y)\n",
    "\n",
    "print(cols)\n",
    "print(rfe.ranking_)"
   ]
  },
  {
   "cell_type": "code",
   "execution_count": 7,
   "metadata": {},
   "outputs": [
    {
     "data": {
      "text/plain": [
       "<seaborn.axisgrid.FacetGrid at 0x1e8889b7b50>"
      ]
     },
     "execution_count": 7,
     "metadata": {},
     "output_type": "execute_result"
    },
    {
     "data": {
      "image/png": "[encoded data removed]",
      "text/plain": [
       "<Figure size 444.75x360 with 1 Axes>"
      ]
     },
     "metadata": {
      "needs_background": "light"
     },
     "output_type": "display_data"
    }
   ],
   "source": [
    "from sklearn.decomposition import PCA\n",
    "pca=PCA(n_components=2)\n",
    "\n",
    "out_pca=pca.fit_transform(df[['petal length in cm'\n",
    "                             ,'petal width in cm']])\n",
    "\n",
    "df_pca=pd.DataFrame(data=out_pca, columns=['pca1','pca2'])\n",
    "df_pca=pd.concat([df_pca,df[['species']]],axis=1)\n",
    "\n",
    "sns.lmplot(x='pca1',y='pca2',hue='species',data=df_pca,fit_reg=False)\n",
    "                                            "
   ]
  },
  {
   "cell_type": "code",
   "execution_count": null,
   "metadata": {},
   "outputs": [],
   "source": []
  }
 ],
 "metadata": {
  "kernelspec": {
   "display_name": "Python 3",
   "language": "python",
   "name": "python3"
  },
  "language_info": {
   "codemirror_mode": {
    "name": "ipython",
    "version": 3
   },
   "file_extension": ".py",
   "mimetype": "text/x-python",
   "name": "python",
   "nbconvert_exporter": "python",
   "pygments_lexer": "ipython3",
   "version": "3.8.5"
  }
 },
 "nbformat": 4,
 "nbformat_minor": 4
}
